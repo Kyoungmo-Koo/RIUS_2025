{
  "cells": [
    {
      "cell_type": "code",
      "execution_count": 1,
      "metadata": {
        "colab": {
          "base_uri": "https://localhost:8080/"
        },
        "id": "mSt8S82djDoX",
        "outputId": "a28336d1-9123-4899-dba8-6a469f60a5ca"
      },
      "outputs": [
        {
          "output_type": "stream",
          "name": "stdout",
          "text": [
            "Mounted at /content/drive\n",
            "0.29704598735568455\n",
            "0.10757069163438071\n",
            "0.03955516941874149\n"
          ]
        },
        {
          "output_type": "stream",
          "name": "stderr",
          "text": [
            "Processing: 100%|██████████| 120/120 [00:44<00:00,  2.67it/s]\n"
          ]
        }
      ],
      "source": [
        "from google.colab import drive\n",
        "import scipy.io\n",
        "import numpy as np\n",
        "import matplotlib.pyplot as plt\n",
        "import cv2\n",
        "from mpl_toolkits.mplot3d import Axes3D\n",
        "from tqdm import tqdm\n",
        "\n",
        "# Import data from drive\n",
        "drive.mount('/content/drive')\n",
        "mat_file_path = '/content/drive/MyDrive/dataset/2024_2025_RAUS_dataset_arc/images_test3/frame_axes_data_20241216_2.mat'\n",
        "data = scipy.io.loadmat(mat_file_path)\n",
        "data_matrix = data['data_matrix']\n",
        "\n",
        "# positions : positions buffer of ultrasound probe for each image\n",
        "positions = data_matrix[:120, 9:12]\n",
        "# x_vectors, y_vectors, z_vectors : vectors buffer of each plane\n",
        "x_vectors = data_matrix[:120, 0:3]\n",
        "y_vectors = data_matrix[:120, 3:6]\n",
        "z_vectors = data_matrix[:120, 6:9]\n",
        "\n",
        "# Calculate the center position in 3D frame (X, Y)\n",
        "X_mean = np.mean([np.max(positions[:, 0]), np.min(positions[:, 0])])\n",
        "Y_mean = np.mean([np.max(positions[:, 1]), np.min(positions[:, 1])])\n",
        "\n",
        "# Calculate the highest position in 3D frame (Z)\n",
        "Z_max = np.max(positions[:, 2])\n",
        "\n",
        "print(X_mean)\n",
        "print(Y_mean)\n",
        "print(Z_max)\n",
        "\n",
        "plane_equations = []\n",
        "\n",
        "# Generate buffer that express plane equation of each plane\n",
        "for i in range(len(positions)):\n",
        "\n",
        "    a, b, c = z_vectors[i]\n",
        "    x0, y0, z0 = positions[i]\n",
        "    d = a * x0 + b * y0 + c * z0\n",
        "\n",
        "    plane_equations.append((a, b, c, d))\n",
        "\n",
        "# Image template for importing images\n",
        "bscan_image_template = '/content/drive/MyDrive/dataset/2024_2025_RAUS_dataset_arc/images_test3/{}_bmode.png'\n",
        "\n",
        "# Calculate range x, y, z range using X_mean, Y_mean, and Z_max\n",
        "x_range = (X_mean - 0.012, X_mean + 0.013)\n",
        "y_range = (Y_mean - 0.010, Y_mean + 0.010)\n",
        "z_range = (Z_max - 0.030, Z_max)\n",
        "\n",
        "# Generate query points using linspace function\n",
        "x = np.linspace(*x_range, int(50 * 18.0) )\n",
        "y = np.linspace(*y_range, int(40 * 18.0) )\n",
        "z = np.linspace(*z_range, int(60 * 18.0) )\n",
        "\n",
        "distances = []\n",
        "projections = []\n",
        "plane_images = []\n",
        "\n",
        "# Generate plane_images by importing B-scan images\n",
        "for idx in tqdm(range(len(plane_equations)), desc=\"Processing\"):\n",
        "    bscan_image_path = bscan_image_template.format(idx)\n",
        "\n",
        "    image = cv2.imread(bscan_image_path, cv2.IMREAD_GRAYSCALE)\n",
        "    if image is None:\n",
        "        raise FileNotFoundError(f\"Image not found at path: {bscan_image_path}\")\n",
        "\n",
        "    plane_images.append(image)\n",
        "\n",
        "len_pxl_width = 371\n",
        "len_pxl_height = 1083\n",
        "len_mm_width = 25.0\n",
        "len_mm_height = 30.0\n",
        "ratio_of_width = len_mm_width / len_pxl_width / 1000  # width (m) per pixel\n",
        "ratio_of_height = len_mm_height / len_pxl_height / 1000  # height (m) per pixel\n",
        "\n",
        "interpolated_intensities = []"
      ]
    },
    {
      "cell_type": "code",
      "execution_count": 2,
      "metadata": {
        "colab": {
          "base_uri": "https://localhost:8080/"
        },
        "id": "QESUQbW2jSlx",
        "outputId": "4bfaceb2-4907-48a5-9554-9380ba31a9a6"
      },
      "outputs": [
        {
          "output_type": "stream",
          "name": "stdout",
          "text": [
            "plane origins: (120, 3)\n",
            "plane normals: (120, 3)\n",
            "query_points (transposed): (900, 720, 1080, 3)\n"
          ]
        },
        {
          "output_type": "stream",
          "name": "stderr",
          "text": [
            "Processing: 100%|██████████| 120/120 [48:50<00:00, 24.42s/it]\n"
          ]
        },
        {
          "output_type": "stream",
          "name": "stdout",
          "text": [
            "closest_planes shape: (2, 900, 720, 1080)\n",
            "distances1 shape: (900, 720, 1080)\n",
            "distances2 shape: (900, 720, 1080)\n"
          ]
        }
      ],
      "source": [
        "import numpy as np\n",
        "from tqdm import tqdm\n",
        "\n",
        "plane_origins = positions\n",
        "plane_normals = z_vectors\n",
        "print(f\"plane origins: {plane_origins.shape}\")\n",
        "print(f\"plane normals: {plane_normals.shape}\")\n",
        "\n",
        "# Transpose query_points to move the x, y, z components to the last axis\n",
        "query_points = np.array(np.meshgrid(x, y, z, indexing='ij')).transpose(1, 2, 3, 0)\n",
        "print(f\"query_points (transposed): {query_points.shape}\")\n",
        "\n",
        "# Initialize arrays to track only the top two distances and plane indices (best_val1 : Closest distance, best_val2 : Second closest distance, best_idx1 : Index of closest plane, best_idx2 : Index of second closest plane)\n",
        "best_val1 = np.full(query_points.shape[:-1], np.inf, dtype=query_points.dtype)\n",
        "best_idx1 = np.full(query_points.shape[:-1], -1,   dtype=int)\n",
        "best_val2 = np.full(query_points.shape[:-1], np.inf, dtype=query_points.dtype)\n",
        "best_idx2 = np.full(query_points.shape[:-1], -1,   dtype=int)\n",
        "\n",
        "# Compute distances plane-by-plane\n",
        "for i in tqdm(range(plane_origins.shape[0]), desc=\"Processing\"):\n",
        "    # Signed distance from plane i to all (x,y,z) in query_points\n",
        "    distance_i = (\n",
        "          (query_points[..., 0] - plane_origins[i, 0]) * plane_normals[i, 0]\n",
        "        + (query_points[..., 1] - plane_origins[i, 1]) * plane_normals[i, 1]\n",
        "        + (query_points[..., 2] - plane_origins[i, 2]) * plane_normals[i, 2]\n",
        "    )\n",
        "    abs_distance_i = np.abs(distance_i)\n",
        "\n",
        "    # Check if abs_distance_i beats the current #1 best distance\n",
        "    mask1 = abs_distance_i < best_val1\n",
        "\n",
        "    # Put abs_distance into new #1 and old #1 into #2 where mask1 is True (abs_distance -> New #1, Old #1 -> New #2)\n",
        "    new_best_val2 = np.where(mask1, best_val1, best_val2)\n",
        "    new_best_idx2 = np.where(mask1, best_idx1, best_idx2)\n",
        "    new_best_val1 = np.where(mask1, abs_distance_i, best_val1)\n",
        "    new_best_idx1 = np.where(mask1, i, best_idx1)\n",
        "\n",
        "    # Among those not improved by mask1, see if abs_distance_i beats #2\n",
        "    mask2 = (~mask1) & (abs_distance_i < new_best_val2)\n",
        "\n",
        "    # Put abs_distance into new #2\n",
        "    final_best_val2 = np.where(mask2, abs_distance_i, new_best_val2)\n",
        "    final_best_idx2 = np.where(mask2, i, new_best_idx2)\n",
        "\n",
        "    # Update the best and second-best holders\n",
        "    best_val1 = new_best_val1\n",
        "    best_idx1 = new_best_idx1\n",
        "    best_val2 = final_best_val2\n",
        "    best_idx2 = final_best_idx2\n",
        "\n",
        "# Stack the plane indices of the two closest planes:\n",
        "closest_planes = np.stack((best_idx1, best_idx2), axis=0)\n",
        "print(\"closest_planes shape:\", closest_planes.shape)\n",
        "\n",
        "print(\"distances1 shape:\", best_val1.shape)\n",
        "print(\"distances2 shape:\", best_val2.shape)\n"
      ]
    },
    {
      "cell_type": "code",
      "execution_count": 3,
      "metadata": {
        "colab": {
          "base_uri": "https://localhost:8080/"
        },
        "id": "jfWzqDM4jj3r",
        "outputId": "26cd850f-9c4c-4c91-b50d-a5e63a60c05e"
      },
      "outputs": [
        {
          "output_type": "execute_result",
          "data": {
            "text/plain": [
              "3"
            ]
          },
          "metadata": {},
          "execution_count": 3
        }
      ],
      "source": [
        "# Delete buffers that are not used anymore.\n",
        "\n",
        "del best_idx1, best_idx2, new_best_val1, new_best_idx1, new_best_val2, new_best_idx2, mask1, mask2, final_best_val2, final_best_idx2, distance_i, abs_distance_i, data, data_matrix, positions, z_vectors\n",
        "\n",
        "import gc\n",
        "gc.collect()"
      ]
    },
    {
      "cell_type": "code",
      "execution_count": 4,
      "metadata": {
        "colab": {
          "base_uri": "https://localhost:8080/"
        },
        "id": "DUl2y-lslZk9",
        "outputId": "b18f5bdb-4c75-47db-a87b-924c1e875ff7"
      },
      "outputs": [
        {
          "output_type": "stream",
          "name": "stdout",
          "text": [
            "first_closest_plane_indices: (900, 720, 1080), dtype=int16\n",
            "second_closest_plane_indices: (900, 720, 1080), dtype=int16\n",
            "origins1: (900, 720, 1080, 3), dtype=float16\n",
            "x_vectors1: (900, 720, 1080, 3), dtype=float16\n",
            "y_vectors1: (900, 720, 1080, 3), dtype=float16\n",
            "v1: (900, 720, 1080, 3), dtype=float16\n",
            "v2: (900, 720, 1080, 3), dtype=float16\n",
            "v_x1: (900, 720, 1080), dtype=float16\n",
            "v_y1: (900, 720, 1080), dtype=float16\n",
            "pixel_x_clamped1: (900, 720, 1080), dtype=int16\n",
            "pixel_y_clamped1: (900, 720, 1080), dtype=int16\n"
          ]
        }
      ],
      "source": [
        "import numpy as np\n",
        "\n",
        "# Cast plane indices to int16 (Memory Capacity)\n",
        "first_closest_plane_indices = closest_planes[0, ...].astype(np.int16)\n",
        "second_closest_plane_indices = closest_planes[1, ...].astype(np.int16)\n",
        "\n",
        "print(f\"first_closest_plane_indices: {first_closest_plane_indices.shape}, dtype={first_closest_plane_indices.dtype}\")\n",
        "print(f\"second_closest_plane_indices: {second_closest_plane_indices.shape}, dtype={second_closest_plane_indices.dtype}\")\n",
        "\n",
        "# Cast positions / x_vectors / y_vectors to float16 if not already (Memory Capacity)\n",
        "positions = plane_origins.astype(np.float16)\n",
        "x_vectors = x_vectors.astype(np.float16)\n",
        "y_vectors = y_vectors.astype(np.float16)\n",
        "query_points = query_points.astype(np.float16)\n",
        "\n",
        "# Extract origins,x_vectors, y_vectors of the closest planes for all grid points (Memory Capacity)\n",
        "origins1 = positions[first_closest_plane_indices].astype(np.float16)\n",
        "x_vectors1 = x_vectors[first_closest_plane_indices].astype(np.float16)\n",
        "y_vectors1 = y_vectors[first_closest_plane_indices].astype(np.float16)\n",
        "\n",
        "print(f\"origins1: {origins1.shape}, dtype={origins1.dtype}\")\n",
        "print(f\"x_vectors1: {x_vectors1.shape}, dtype={x_vectors1.dtype}\")\n",
        "print(f\"y_vectors1: {y_vectors1.shape}, dtype={y_vectors1.dtype}\")\n",
        "\n",
        "# Extract origins,x_vectors, y_vectors of the second closest planes for all grid points (Memory Capacity)\n",
        "origins2 = positions[second_closest_plane_indices].astype(np.float16)\n",
        "x_vectors2 = x_vectors[second_closest_plane_indices].astype(np.float16)\n",
        "y_vectors2 = y_vectors[second_closest_plane_indices].astype(np.float16)\n",
        "\n",
        "# Calculate vector `v` from the origin to the query point\n",
        "v1 = (query_points - origins1).astype(np.float16)  # shape (A,B,C,3)\n",
        "v2 = (query_points - origins2).astype(np.float16)  # shape (A,B,C,3)\n",
        "\n",
        "print(f\"v1: {v1.shape}, dtype={v1.dtype}\")\n",
        "print(f\"v2: {v2.shape}, dtype={v2.dtype}\")\n",
        "\n",
        "# Compute the projections on X and Y axes of two planes for all the query points (dot products)\n",
        "v_x1 = np.sum((v1 * x_vectors1).astype(np.float16), axis=-1).astype(np.float16)\n",
        "v_y1 = np.sum((v1 * y_vectors1).astype(np.float16), axis=-1).astype(np.float16)\n",
        "print(f\"v_x1: {v_x1.shape}, dtype={v_x1.dtype}\")\n",
        "print(f\"v_y1: {v_y1.shape}, dtype={v_y1.dtype}\")\n",
        "\n",
        "v_x2 = np.sum((v2 * x_vectors2).astype(np.float16), axis=-1).astype(np.float16)\n",
        "v_y2 = np.sum((v2 * y_vectors2).astype(np.float16), axis=-1).astype(np.float16)\n",
        "\n",
        "# Convert ratio_of_width / ratio_of_height to float16 for consistency\n",
        "ratio_of_height = np.float16(ratio_of_height)\n",
        "ratio_of_width  = np.float16(ratio_of_width)\n",
        "\n",
        "# Map to pixel coordinates\n",
        "pixel_y1 = (v_x1 / ratio_of_height).astype(np.float16)\n",
        "pixel_x1 = (v_y1 / ratio_of_width).astype(np.float16)\n",
        "\n",
        "pixel_y2 = (v_x2 / ratio_of_height).astype(np.float16)\n",
        "pixel_x2 = (v_y2 / ratio_of_width).astype(np.float16)\n",
        "\n",
        "# Center pixels (also cast len_pxl_width / len_pxl_height to float16 if large enough)\n",
        "len_pxl_width  = np.int16(len_pxl_width)\n",
        "len_pxl_height = np.int16(len_pxl_height)\n",
        "\n",
        "# Adjust x and y coordinates\n",
        "pixel_x_centered1 = (pixel_x1 + (len_pxl_width / 2)).astype(np.float16)\n",
        "pixel_y_centered1 = pixel_y1\n",
        "\n",
        "pixel_x_centered2 = (pixel_x2 + (len_pxl_width / 2)).astype(np.float16)\n",
        "pixel_y_centered2 = pixel_y2\n",
        "\n",
        "# Clamp pixel values to valid ranges\n",
        "# Here we clamp to int16 as well (assuming the image size < 32767)\n",
        "pixel_x_clamped1 = np.clip(pixel_x_centered1, 0, len_pxl_width - 1).astype(np.int16)\n",
        "pixel_y_clamped1 = np.clip(pixel_y_centered1, 0, len_pxl_height - 1).astype(np.int16)\n",
        "\n",
        "print(f\"pixel_x_clamped1: {pixel_x_clamped1.shape}, dtype={pixel_x_clamped1.dtype}\")\n",
        "print(f\"pixel_y_clamped1: {pixel_y_clamped1.shape}, dtype={pixel_y_clamped1.dtype}\")\n",
        "\n",
        "pixel_x_clamped2 = np.clip(pixel_x_centered2, 0, len_pxl_width - 1).astype(np.int16)\n",
        "pixel_y_clamped2 = np.clip(pixel_y_centered2, 0, len_pxl_height - 1).astype(np.int16)\n"
      ]
    },
    {
      "cell_type": "code",
      "execution_count": 6,
      "metadata": {
        "colab": {
          "base_uri": "https://localhost:8080/",
          "height": 305
        },
        "id": "H49sdqTJllDp",
        "outputId": "8ccc4670-ce59-45f4-bc23-20b02901a42d"
      },
      "outputs": [
        {
          "output_type": "error",
          "ename": "NameError",
          "evalue": "name 'v1' is not defined",
          "traceback": [
            "\u001b[0;31m---------------------------------------------------------------------------\u001b[0m",
            "\u001b[0;31mNameError\u001b[0m                                 Traceback (most recent call last)",
            "\u001b[0;32m<ipython-input-6-ec3f6cb1d9b7>\u001b[0m in \u001b[0;36m<cell line: 3>\u001b[0;34m()\u001b[0m\n\u001b[1;32m      1\u001b[0m \u001b[0;31m# Delete buffers that are not used anymore.\u001b[0m\u001b[0;34m\u001b[0m\u001b[0;34m\u001b[0m\u001b[0m\n\u001b[1;32m      2\u001b[0m \u001b[0;34m\u001b[0m\u001b[0m\n\u001b[0;32m----> 3\u001b[0;31m \u001b[0;32mdel\u001b[0m \u001b[0mv1\u001b[0m\u001b[0;34m,\u001b[0m \u001b[0mv2\u001b[0m\u001b[0;34m,\u001b[0m \u001b[0mv_x1\u001b[0m\u001b[0;34m,\u001b[0m \u001b[0mv_y1\u001b[0m\u001b[0;34m,\u001b[0m \u001b[0mv_x2\u001b[0m\u001b[0;34m,\u001b[0m \u001b[0mv_y2\u001b[0m\u001b[0;34m,\u001b[0m \u001b[0mpixel_x_centered1\u001b[0m\u001b[0;34m,\u001b[0m \u001b[0mpixel_x_centered2\u001b[0m\u001b[0;34m,\u001b[0m \u001b[0mpixel_y_centered1\u001b[0m\u001b[0;34m,\u001b[0m \u001b[0mpixel_y_centered2\u001b[0m\u001b[0;34m,\u001b[0m \u001b[0mpixel_x1\u001b[0m\u001b[0;34m,\u001b[0m \u001b[0mpixel_y1\u001b[0m\u001b[0;34m,\u001b[0m \u001b[0mpixel_x2\u001b[0m\u001b[0;34m,\u001b[0m \u001b[0mpixel_y2\u001b[0m\u001b[0;34m,\u001b[0m \u001b[0mx_vectors1\u001b[0m\u001b[0;34m,\u001b[0m \u001b[0mx_vectors2\u001b[0m\u001b[0;34m,\u001b[0m \u001b[0my_vectors1\u001b[0m\u001b[0;34m,\u001b[0m \u001b[0my_vectors2\u001b[0m\u001b[0;34m,\u001b[0m \u001b[0morigins1\u001b[0m\u001b[0;34m,\u001b[0m \u001b[0morigins2\u001b[0m\u001b[0;34m\u001b[0m\u001b[0;34m\u001b[0m\u001b[0m\n\u001b[0m\u001b[1;32m      4\u001b[0m \u001b[0;34m\u001b[0m\u001b[0m\n\u001b[1;32m      5\u001b[0m \u001b[0;32mimport\u001b[0m \u001b[0mgc\u001b[0m\u001b[0;34m\u001b[0m\u001b[0;34m\u001b[0m\u001b[0m\n",
            "\u001b[0;31mNameError\u001b[0m: name 'v1' is not defined"
          ]
        }
      ],
      "source": [
        "# Delete buffers that are not used anymore.\n",
        "\n",
        "del v1, v2, v_x1, v_y1, v_x2, v_y2, pixel_x_centered1, pixel_x_centered2, pixel_y_centered1, pixel_y_centered2, pixel_x1, pixel_y1, pixel_x2, pixel_y2, x_vectors1, x_vectors2, y_vectors1, y_vectors2, origins1, origins2\n",
        "\n",
        "import gc\n",
        "gc.collect()"
      ]
    },
    {
      "cell_type": "code",
      "execution_count": 7,
      "metadata": {
        "colab": {
          "base_uri": "https://localhost:8080/"
        },
        "id": "lj7_rawnmhtC",
        "outputId": "c93c8346-43a0-4e6e-c828-b05198dd2652"
      },
      "outputs": [
        {
          "output_type": "stream",
          "name": "stdout",
          "text": [
            "(120, 1083, 371)\n",
            "(900, 720, 1080)\n",
            "(900, 720, 1080)\n"
          ]
        }
      ],
      "source": [
        "import numpy as np\n",
        "\n",
        "plane_images = np.array(plane_images)  # Convert list to NumPy array\n",
        "print(plane_images.shape)\n",
        "\n",
        "# Generate grid indices for dimensions\n",
        "grid_x, grid_y, grid_z = np.meshgrid(\n",
        "    np.arange(first_closest_plane_indices.shape[0]),\n",
        "    np.arange(first_closest_plane_indices.shape[1]),\n",
        "    np.arange(first_closest_plane_indices.shape[2]),\n",
        "    indexing=\"ij\",\n",
        ")\n",
        "\n",
        "# Extract intensities for the two closest planes\n",
        "intensities1 = plane_images[\n",
        "    first_closest_plane_indices,\n",
        "    pixel_y_clamped1,\n",
        "    pixel_x_clamped1,\n",
        "]\n",
        "intensities2 = plane_images[\n",
        "    second_closest_plane_indices,\n",
        "    pixel_y_clamped2,\n",
        "    pixel_x_clamped2,\n",
        "]\n",
        "\n",
        "print(intensities1.shape)\n",
        "print(intensities2.shape)"
      ]
    },
    {
      "cell_type": "code",
      "execution_count": 8,
      "metadata": {
        "colab": {
          "base_uri": "https://localhost:8080/"
        },
        "id": "ZMqCqWACnqKr",
        "outputId": "594dc944-f74b-4a14-dd9c-44b9daad442a"
      },
      "outputs": [
        {
          "output_type": "execute_result",
          "data": {
            "text/plain": [
              "0"
            ]
          },
          "metadata": {},
          "execution_count": 8
        }
      ],
      "source": [
        "del first_closest_plane_indices, second_closest_plane_indices, pixel_x_clamped1, pixel_x_clamped2, pixel_y_clamped1, pixel_y_clamped2\n",
        "import gc\n",
        "gc.collect()"
      ]
    },
    {
      "cell_type": "code",
      "execution_count": 9,
      "metadata": {
        "colab": {
          "base_uri": "https://localhost:8080/"
        },
        "id": "6Qp_VISBm0nl",
        "outputId": "90308e4b-e94a-42c8-a2b4-f079c9947b30"
      },
      "outputs": [
        {
          "output_type": "stream",
          "name": "stdout",
          "text": [
            "(900, 720, 1080)\n"
          ]
        }
      ],
      "source": [
        "# Calculate weights for interpolation\n",
        "weight1 = 1 / best_val1 / (1 / best_val1 + 1 / best_val2)\n",
        "weight2 = 1 / best_val2 / (1 / best_val1 + 1 / best_val2)\n",
        "\n",
        "# Perform weighted interpolation\n",
        "interpolated_intensity = weight1 * intensities1 + weight2 * intensities2\n",
        "print(interpolated_intensity.shape)"
      ]
    },
    {
      "cell_type": "code",
      "execution_count": 10,
      "metadata": {
        "colab": {
          "base_uri": "https://localhost:8080/"
        },
        "id": "7agwstezoGEC",
        "outputId": "f9b63c32-984c-40d7-caae-eb7a06154562"
      },
      "outputs": [
        {
          "output_type": "execute_result",
          "data": {
            "text/plain": [
              "0"
            ]
          },
          "metadata": {},
          "execution_count": 10
        }
      ],
      "source": [
        "del weight1, weight2, intensities1, intensities2\n",
        "import gc\n",
        "gc.collect()"
      ]
    },
    {
      "cell_type": "code",
      "execution_count": 11,
      "metadata": {
        "colab": {
          "base_uri": "https://localhost:8080/"
        },
        "id": "_9Vil0OYm5P_",
        "outputId": "f702e6eb-594c-415e-d71c-d7552fc7432b"
      },
      "outputs": [
        {
          "output_type": "stream",
          "name": "stdout",
          "text": [
            "valid shape: (900, 720, 1080)\n"
          ]
        }
      ],
      "source": [
        "# Distance for plane 0\n",
        "distance_0 = (\n",
        "    (query_points[..., 0] - plane_origins[0, 0]) * plane_normals[0, 0] +\n",
        "    (query_points[..., 1] - plane_origins[0, 1]) * plane_normals[0, 1] +\n",
        "    (query_points[..., 2] - plane_origins[0, 2]) * plane_normals[0, 2]\n",
        ")\n",
        "\n",
        "# Distance for plane -1 (the last plane)\n",
        "distance_last = (\n",
        "    (query_points[..., 0] - plane_origins[-1, 0]) * plane_normals[-1, 0] +\n",
        "    (query_points[..., 1] - plane_origins[-1, 1]) * plane_normals[-1, 1] +\n",
        "    (query_points[..., 2] - plane_origins[-1, 2]) * plane_normals[-1, 2]\n",
        ")\n",
        "\n",
        "# Mask for determining valid pixels\n",
        "valid = (distance_0 < 0) & (distance_last > 0)\n",
        "print(\"valid shape:\", valid.shape)\n",
        "\n",
        "# Generate masked_intensity\n",
        "masked_intensity = np.where(valid, interpolated_intensity, 0)"
      ]
    },
    {
      "cell_type": "code",
      "execution_count": 12,
      "metadata": {
        "colab": {
          "base_uri": "https://localhost:8080/",
          "height": 446
        },
        "id": "ADI7q1JVm_eo",
        "outputId": "535dde47-2927-42ca-a16c-02698aeda055"
      },
      "outputs": [
        {
          "output_type": "display_data",
          "data": {
            "text/plain": [
              "<Figure size 400x500 with 2 Axes>"
            ],
            "image/png": "[encoded data removed]"
          },
          "metadata": {}
        }
      ],
      "source": [
        "import numpy as np\n",
        "import matplotlib.pyplot as plt\n",
        "\n",
        "# Rotate the slice 90 degrees counterclockwise\n",
        "rotated_intensity = np.rot90(masked_intensity[:, 360, :], k = -1)\n",
        "\n",
        "plt.figure(figsize=(4, 5))\n",
        "plt.imshow(rotated_intensity, cmap='gray', origin='lower', aspect='auto')\n",
        "plt.colorbar(label=\"Intensity\")\n",
        "plt.show()\n"
      ]
    },
    {
      "cell_type": "code",
      "execution_count": 13,
      "metadata": {
        "id": "2jbVsNhnklvh"
      },
      "outputs": [],
      "source": [
        "np.save(\"interpolated_intensity_CPU_20240101.npy\", interpolated_intensity)"
      ]
    },
    {
      "cell_type": "code",
      "execution_count": null,
      "metadata": {
        "id": "Rr_hjOJYlHUe"
      },
      "outputs": [],
      "source": []
    }
  ],
  "metadata": {
    "accelerator": "GPU",
    "colab": {
      "gpuType": "A100",
      "machine_shape": "hm",
      "provenance": []
    },
    "kernelspec": {
      "display_name": "Python 3",
      "name": "python3"
    },
    "language_info": {
      "name": "python"
    }
  },
  "nbformat": 4,
  "nbformat_minor": 0
}